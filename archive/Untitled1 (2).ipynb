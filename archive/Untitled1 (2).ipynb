{
 "cells": [
  {
   "cell_type": "code",
   "execution_count": 1,
   "id": "9391166a",
   "metadata": {},
   "outputs": [],
   "source": [
    "import os\n"
   ]
  },
  {
   "cell_type": "code",
   "execution_count": 4,
   "id": "e60d7f2c",
   "metadata": {},
   "outputs": [
    {
     "name": "stdout",
     "output_type": "stream",
     "text": [
      "part-000000000000\n",
      "part-000000000001\n",
      "part-000000000002\n",
      "part-000000000003\n",
      "part-000000000004\n",
      "part-000000000005\n",
      "part-000000000006\n",
      "part-000000000007\n",
      "part-000000000008\n",
      "part-000000000009\n",
      "part-000000000010\n",
      "part-000000000011\n",
      "part-000000000012\n",
      "part-000000000013\n",
      "part-000000000014\n",
      "part-000000000015\n",
      "part-000000000016\n",
      "part-000000000017\n",
      "part-000000000018\n",
      "part-000000000019\n",
      "part-000000000020\n",
      "part-000000000021\n",
      "part-000000000022\n",
      "part-000000000023\n",
      "part-000000000024\n",
      "part-000000000025\n",
      "part-000000000026\n",
      "part-000000000027\n",
      "part-000000000028\n",
      "part-000000000029\n",
      "part-000000000030\n",
      "part-000000000031\n",
      "part-000000000032\n",
      "part-000000000033\n",
      "part-000000000034\n",
      "part-000000000035\n",
      "part-000000000036\n",
      "part-000000000037\n",
      "part-000000000038\n",
      "part-000000000039\n",
      "part-000000000040\n",
      "part-000000000041\n",
      "part-000000000042\n",
      "part-000000000043\n",
      "part-000000000044\n",
      "part-000000000045\n",
      "part-000000000046\n",
      "part-000000000047\n",
      "part-000000000048\n",
      "part-000000000049\n",
      "part-000000000050\n",
      "part-000000000051\n",
      "part-000000000052\n",
      "part-000000000053\n",
      "part-000000000054\n",
      "part-000000000055\n",
      "part-000000000056\n",
      "part-000000000057\n",
      "part-000000000058\n",
      "part-000000000059\n"
     ]
    }
   ],
   "source": [
    "\n",
    "for i in os.listdir('fwb_data/'):\n",
    "    print(i[:-5])"
   ]
  },
  {
   "cell_type": "code",
   "execution_count": null,
   "id": "4c786a02",
   "metadata": {},
   "outputs": [],
   "source": []
  }
 ],
 "metadata": {
  "kernelspec": {
   "display_name": "Python 3 (ipykernel)",
   "language": "python",
   "name": "python3"
  },
  "language_info": {
   "codemirror_mode": {
    "name": "ipython",
    "version": 3
   },
   "file_extension": ".py",
   "mimetype": "text/x-python",
   "name": "python",
   "nbconvert_exporter": "python",
   "pygments_lexer": "ipython3",
   "version": "3.9.13"
  }
 },
 "nbformat": 4,
 "nbformat_minor": 5
}
