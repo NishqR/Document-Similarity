{
 "cells": [
  {
   "cell_type": "code",
   "execution_count": 1,
   "id": "5f4e54d2",
   "metadata": {},
   "outputs": [
    {
     "name": "stdout",
     "output_type": "stream",
     "text": [
      "List processing complete.\n"
     ]
    }
   ],
   "source": [
    "import random\n",
    "import multiprocessing\n",
    "\n",
    "\n",
    "def list_append(count, id, out_list):\n",
    "    \"\"\"\n",
    "    Creates an empty list and then appends a \n",
    "    random number to the list 'count' number\n",
    "    of times. A CPU-heavy operation!\n",
    "    \"\"\"\n",
    "    for i in range(count):\n",
    "        out_list.append(random.random())\n",
    "\n",
    "if __name__ == \"__main__\":\n",
    "    size = 100000000   # Number of random numbers to add\n",
    "    procs = 8   # Number of processes to create\n",
    "\n",
    "    # Create a list of jobs and then iterate through\n",
    "    # the number of processes appending each process to\n",
    "    # the job list \n",
    "    jobs = []\n",
    "    for i in range(0, procs):\n",
    "        out_list = list()\n",
    "        process = multiprocessing.Process(target=list_append, \n",
    "                                          args=(size, i, out_list))\n",
    "        jobs.append(process)\n",
    "\n",
    "    # Start the processes (i.e. calculate the random number lists)      \n",
    "    for j in jobs:\n",
    "        j.start()\n",
    "\n",
    "    # Ensure all of the processes have finished\n",
    "    for j in jobs:\n",
    "        j.join()\n",
    "\n",
    "    print(\"List processing complete.\")"
   ]
  },
  {
   "cell_type": "code",
   "execution_count": null,
   "id": "323af66c",
   "metadata": {},
   "outputs": [],
   "source": [
    "import multiprocessing\n",
    "import time\n",
    "\n",
    "def square(x):\n",
    "    result = x**2\n",
    "\n",
    "    return result\n",
    "\n",
    "def par():\n",
    "    for num_cores in range(1,multiprocessing.cpu_count()+1):\n",
    "\n",
    "        start = time.time()\n",
    "        pool = multiprocessing.Pool(processes=num_cores)\n",
    "        x = range(0,1000000)\n",
    "\n",
    "        results = pool.map(square,x)\n",
    "        pool.close()\n",
    "        pool.join()\n",
    "        stop = time.time()\n",
    "        print(num_cores,stop-start)\n",
    "\n",
    "if __name__=='__main__':\n",
    "    par()"
   ]
  },
  {
   "cell_type": "code",
   "execution_count": null,
   "id": "d665b345",
   "metadata": {},
   "outputs": [],
   "source": []
  }
 ],
 "metadata": {
  "kernelspec": {
   "display_name": "Python 3 (ipykernel)",
   "language": "python",
   "name": "python3"
  },
  "language_info": {
   "codemirror_mode": {
    "name": "ipython",
    "version": 3
   },
   "file_extension": ".py",
   "mimetype": "text/x-python",
   "name": "python",
   "nbconvert_exporter": "python",
   "pygments_lexer": "ipython3",
   "version": "3.9.13"
  }
 },
 "nbformat": 4,
 "nbformat_minor": 5
}
